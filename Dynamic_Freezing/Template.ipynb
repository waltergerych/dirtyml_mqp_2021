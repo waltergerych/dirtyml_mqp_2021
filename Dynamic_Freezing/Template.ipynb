{
 "cells": [
  {
   "cell_type": "code",
   "execution_count": null,
   "id": "fcc356fa",
   "metadata": {},
   "outputs": [],
   "source": [
    "#Import Statments and GPU Logic\n",
    "\n",
    "# Get statisitcs about the data\n",
    "    # Data Volume\n",
    "    # Data Dimensions\n",
    "    # Image or numerical?\n",
    "    \n",
    "# Hyperparameters\n",
    "    # lr\n",
    "    # Batch Size\n",
    "    # D/G ratio\n",
    "    \n",
    "#Generator\n",
    "    # __init__()\n",
    "    # forward()\n",
    "    # get_noise()\n",
    "    # get_loss()\n",
    "    # Save Model()\n",
    "    # Load Model()\n",
    "    # initialize\n",
    "    # optimizer\n",
    "    \n",
    "# Discriminator\n",
    "    # __init__()\n",
    "    # forward()\n",
    "    # get_loss()\n",
    "    # Save Model()\n",
    "    # Load Model()\n",
    "    # initialize\n",
    "    # optimizer\n",
    "    \n",
    "# Training Loop\n",
    "    # Alternate training\n",
    "    # Record training stats\n",
    "\n",
    "# Compile Training Report\n",
    "    # Send training stats and visualization to disc \n",
    "    \n",
    "# Sample Data \n",
    "    # Generate a sample of fake data\n",
    "    \n",
    "# Evaluate generation quality\n",
    "    # Sample Data and then visualize\n",
    "    # Compile report and send to disc\n",
    "    \n",
    "\n"
   ]
  }
 ],
 "metadata": {
  "kernelspec": {
   "display_name": "Python 3",
   "language": "python",
   "name": "python3"
  },
  "language_info": {
   "codemirror_mode": {
    "name": "ipython",
    "version": 3
   },
   "file_extension": ".py",
   "mimetype": "text/x-python",
   "name": "python",
   "nbconvert_exporter": "python",
   "pygments_lexer": "ipython3",
   "version": "3.8.8"
  }
 },
 "nbformat": 4,
 "nbformat_minor": 5
}
